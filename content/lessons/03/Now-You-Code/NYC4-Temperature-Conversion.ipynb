{
  "cells": [
    {
      "metadata": {},
      "cell_type": "markdown",
      "source": "# Now You Code 4: Temperature Conversion\n\nWrite a python program which will convert temperatures from Celcius to Fahrenheight.\nThe program should take a temperature in degrees Celcius as input and output a temperature in degrees Fahrenheight.\n\nExample:\n\n```\nEnter the temperature in Celcius: 100\n100 Celcius is 212 Fahrenheight\n```\n\nHINT: Use the web to find the formula to convert from Celcius to Fahrenheight.\n"
    },
    {
      "metadata": {},
      "cell_type": "markdown",
      "source": "## Step 1: Problem Analysis\n\nInputs: celsius temp\n\nOutputs: farenheit temp\n\nAlgorithm (Steps in Program):\n\n- input celsius temp\n- calculate farenheit\n- print the temps\n"
    },
    {
      "metadata": {
        "trusted": true
      },
      "cell_type": "code",
      "source": "# Step 2: write code here\n\ntemp_c = float(input(\"Enter temperature in Celcius: \"))\ntemp_f = (temp_c * 1.8) + 32\nprint (\"%.2f Celcius is %.2f farenheit.\" % (temp_c, temp_f))",
      "execution_count": 5,
      "outputs": [
        {
          "output_type": "stream",
          "name": "stdout",
          "text": "Enter temperature in Celcius: 0\n0.00 Celcius is 32.00 farenheit.\n"
        }
      ]
    },
    {
      "metadata": {},
      "cell_type": "markdown",
      "source": "## Step 3: Questions\n\n1. Why does the program still run when you enter a negative number for temperature? Is this an error?\n\n- the program still runs because the program accepts negative number too. this isnt an error\n\n2. Would it be difficult to write a program which did the opposite (conversion F to C)? Explain.\n\n- it would be difficult because all you have to do is switch the variables and change the formulas\n\n3. Did you store the conversion in a variable before printing it on the last line? I argue this makes your program easier to understand. Why?\n\n- yes. its easier to understand because it seperates the math used to seperate the variable\n"
    },
    {
      "metadata": {},
      "cell_type": "markdown",
      "source": "## Reminder of Evaluation Criteria\n\n1. What the problem attempted (analysis, code, and answered questions) ?\n2. What the problem analysis thought out? (does the program match the plan?)\n3. Does the code execute without syntax error?\n4. Does the code solve the intended problem?\n5. Is the code well written? (easy to understand, modular, and self-documenting, handles errors)\n"
    },
    {
      "metadata": {
        "collapsed": true,
        "trusted": false
      },
      "cell_type": "code",
      "source": "",
      "execution_count": null,
      "outputs": []
    }
  ],
  "metadata": {
    "anaconda-cloud": {},
    "kernelspec": {
      "name": "python3",
      "display_name": "Python 3",
      "language": "python"
    },
    "language_info": {
      "mimetype": "text/x-python",
      "nbconvert_exporter": "python",
      "name": "python",
      "pygments_lexer": "ipython3",
      "version": "3.5.4",
      "file_extension": ".py",
      "codemirror_mode": {
        "version": 3,
        "name": "ipython"
      }
    }
  },
  "nbformat": 4,
  "nbformat_minor": 1
}